{
 "cells": [
  {
   "cell_type": "markdown",
   "id": "d3bfc191-8885-42ee-b0a0-bbab867c6f9f",
   "metadata": {
    "tags": []
   },
   "source": [
    "# Lab | Flow Control"
   ]
  },
  {
   "cell_type": "markdown",
   "id": "3851fcd1-cf98-4653-9c89-e003b7ec9400",
   "metadata": {},
   "source": [
    "## Exercise: Managing Customer Orders Optimized\n",
    "\n",
    "In the last lab, you were starting an online store that sells various products. To ensure smooth operations, you developed a program that manages customer orders and inventory.\n",
    "\n",
    "You did so without using flow control. Let's go a step further and improve this code.\n",
    "\n",
    "Follow the steps below to complete the exercise:\n",
    "\n",
    "1. Look at your code from the lab data structures, and improve repeated code with loops.\n",
    "\n",
    "2. Instead of asking the user to input the name of three products that a customer wants to order, do the following:\n",
    "    \n",
    "    a. Prompt the user to enter the name of a product that a customer wants to order.\n",
    "    \n",
    "    b. Add the product name to the \"customer_orders\" set.\n",
    "    \n",
    "    c. Ask the user if they want to add another product (yes/no).\n",
    "    \n",
    "    d. Continue the loop until the user does not want to add another product.\n",
    "\n",
    "3. Instead of updating the inventory by subtracting 1 from the quantity of each product, only do it for  the products that were ordered (those in \"customer_orders\")."
   ]
  },
  {
   "cell_type": "code",
   "execution_count": 1,
   "id": "d2041124-0a71-45b8-b2c6-51e863bf0a93",
   "metadata": {},
   "outputs": [
    {
     "name": "stdout",
     "output_type": "stream",
     "text": [
      "hat has been added to your order.\n",
      "\n",
      "Order Summary:\n",
      "You ordered: hat\n",
      "\n",
      "Updated inventory:\n",
      "t-shirt: 5 left\n",
      "mug: 4 left\n",
      "hat: 0 left\n",
      "book: 2 left\n",
      "keychain: 3 left\n"
     ]
    }
   ],
   "source": [
    "inventory = {'t-shirt': 5, 'mug': 4, 'hat': 1, 'book': 2, 'keychain': 3}\n",
    "# List to store the products ordered by the customer (list instead of set for repeated products)\n",
    "customer_orders = []\n",
    "\n",
    "while True:\n",
    "    # Step a: Prompt the user to enter the name of a product they want to order\n",
    "    product = input(\"Enter the name of the product you'd like to order: \").lower()\n",
    "\n",
    "    # Check if the product is in stock\n",
    "    if product in inventory and inventory[product] > 0:\n",
    "        # Step b: Add the product to the customer_orders list\n",
    "        customer_orders.append(product)\n",
    "        inventory[product] -= 1\n",
    "        print(f\"{product} has been added to your order.\")\n",
    "    else:\n",
    "        print(f\"Sorry, {product} is either out of stock or not available.\")\n",
    "\n",
    "    # Step c: Ask if the user wants to add another product\n",
    "    while True:\n",
    "        another_product = input(\"Do you want to add another product? (yes/no): \").lower()\n",
    "        if another_product == \"yes\":\n",
    "            break  # Exit this inner loop and continue adding products\n",
    "        elif another_product == \"no\":\n",
    "            break  # Exit this inner loop, but we'll also exit the outer loop right after\n",
    "        else:\n",
    "            print(\"Please enter 'yes' or 'no'.\")  # Ask again if the input is not valid\n",
    "\n",
    "    # Exit the outer loop if the user says 'no'\n",
    "    if another_product == \"no\":\n",
    "        break  # Exit the outer loop if the user doesn't want to add more products\n",
    "\n",
    "\n",
    "# Final order summary\n",
    "print(\"\\nOrder Summary:\")\n",
    "print(\"You ordered:\", \", \".join(customer_orders))\n",
    "print(\"\\nUpdated inventory:\")\n",
    "for item, qty in inventory.items():\n",
    "    print(f\"{item}: {qty} left\")"
   ]
  }
 ],
 "metadata": {
  "kernelspec": {
   "display_name": "base",
   "language": "python",
   "name": "python3"
  },
  "language_info": {
   "codemirror_mode": {
    "name": "ipython",
    "version": 3
   },
   "file_extension": ".py",
   "mimetype": "text/x-python",
   "name": "python",
   "nbconvert_exporter": "python",
   "pygments_lexer": "ipython3",
   "version": "3.12.4"
  }
 },
 "nbformat": 4,
 "nbformat_minor": 5
}
